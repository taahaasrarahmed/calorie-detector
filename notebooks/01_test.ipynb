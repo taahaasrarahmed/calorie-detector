{
 "cells": [
  {
   "cell_type": "code",
   "execution_count": 4,
   "id": "0736bea2-c6c1-4e5b-b845-aa0b59d770d1",
   "metadata": {
    "execution": {
     "iopub.execute_input": "2025-08-28T13:27:30.833973Z",
     "iopub.status.busy": "2025-08-28T13:27:30.833973Z",
     "iopub.status.idle": "2025-08-28T13:27:48.866398Z",
     "shell.execute_reply": "2025-08-28T13:27:48.864876Z",
     "shell.execute_reply.started": "2025-08-28T13:27:30.833973Z"
    }
   },
   "outputs": [
    {
     "name": "stdout",
     "output_type": "stream",
     "text": [
      "WARNING 'line_thickness' is deprecated and will be removed in in the future. Use 'line_width' instead.\n",
      "\n",
      "image 1/56 C:\\Users\\mtaah\\Documents\\Study\\myper\\calorie_detector\\src\\..\\data\\test\\images\\0018471dd5d247a8_jpg.rf.a391eae0445b67e82ccb4b7ee00d6d64.jpg: 640x640 1 Pizza, 62.2ms\n",
      "image 2/56 C:\\Users\\mtaah\\Documents\\Study\\myper\\calorie_detector\\src\\..\\data\\test\\images\\00db865b6604cc20_jpg.rf.f93ab28160ac73e50870a350221bd880.jpg: 640x640 1 Pizza, 60.3ms\n",
      "image 3/56 C:\\Users\\mtaah\\Documents\\Study\\myper\\calorie_detector\\src\\..\\data\\test\\images\\02d57b7042ca87d0_jpg.rf.abd72ea1a2b87b77e37ec4ae06c39be7.jpg: 640x640 1 Pizza, 57.0ms\n",
      "image 4/56 C:\\Users\\mtaah\\Documents\\Study\\myper\\calorie_detector\\src\\..\\data\\test\\images\\1529943050536_jpeg.rf.6da4f78936bbcdfa5e81d792f965798b.jpg: 640x640 1 salad, 45.8ms\n",
      "image 5/56 C:\\Users\\mtaah\\Documents\\Study\\myper\\calorie_detector\\src\\..\\data\\test\\images\\16_jpg.rf.0d88b44044f717a39caa9bfb25a6ccbe.jpg: 640x640 1 steak, 45.1ms\n",
      "image 6/56 C:\\Users\\mtaah\\Documents\\Study\\myper\\calorie_detector\\src\\..\\data\\test\\images\\16_jpg.rf.91f27c4e84add8b5fccc39a7f36048de.jpg: 640x640 1 cereal, 46.9ms\n",
      "image 7/56 C:\\Users\\mtaah\\Documents\\Study\\myper\\calorie_detector\\src\\..\\data\\test\\images\\1_jpg.rf.dd60710f8f281e64cd239723889dfdb9.jpg: 640x640 1 steak, 45.5ms\n",
      "image 8/56 C:\\Users\\mtaah\\Documents\\Study\\myper\\calorie_detector\\src\\..\\data\\test\\images\\20_jpg.rf.0d70547c0a4536b68c8f947beed6d957.jpg: 640x640 (no detections), 44.1ms\n",
      "image 9/56 C:\\Users\\mtaah\\Documents\\Study\\myper\\calorie_detector\\src\\..\\data\\test\\images\\258s_jpg.rf.b6d5e440ee83d17f6d1432e47397ab8c.jpg: 640x640 1 salad, 44.2ms\n",
      "image 10/56 C:\\Users\\mtaah\\Documents\\Study\\myper\\calorie_detector\\src\\..\\data\\test\\images\\27_jpg.rf.b80450cf36bddcd075d1a3fb6d28a79c.jpg: 640x640 1 cereal, 44.6ms\n",
      "image 11/56 C:\\Users\\mtaah\\Documents\\Study\\myper\\calorie_detector\\src\\..\\data\\test\\images\\3756419_jpg.rf.8650ff2f6ece2671304778cb6c955815.jpg: 640x640 1 salad, 45.1ms\n",
      "image 12/56 C:\\Users\\mtaah\\Documents\\Study\\myper\\calorie_detector\\src\\..\\data\\test\\images\\60_jpg.rf.4442b5ecb064e3ef03a5d63126b06ed4.jpg: 640x640 1 cereal, 43.6ms\n",
      "image 13/56 C:\\Users\\mtaah\\Documents\\Study\\myper\\calorie_detector\\src\\..\\data\\test\\images\\65_jpg.rf.b52dd8ddd7ff9b40c9b4c60d74ce63fa.jpg: 640x640 1 cereal, 43.5ms\n",
      "image 14/56 C:\\Users\\mtaah\\Documents\\Study\\myper\\calorie_detector\\src\\..\\data\\test\\images\\Chinese-Chicken-Salad-6_jpg.rf.c83c89428aea681c3509e6bc718ca443.jpg: 640x640 1 salad, 44.0ms\n",
      "image 15/56 C:\\Users\\mtaah\\Documents\\Study\\myper\\calorie_detector\\src\\..\\data\\test\\images\\OIP-1-_jpg.rf.0fe5046df812f178dd2d86a8d2998d49.jpg: 640x640 1 burger, 25.9ms\n",
      "image 16/56 C:\\Users\\mtaah\\Documents\\Study\\myper\\calorie_detector\\src\\..\\data\\test\\images\\R-2-_jpg.rf.0a69c0044496a9683247ac920dcc8ac7.jpg: 640x640 1 burger, 24.6ms\n",
      "image 17/56 C:\\Users\\mtaah\\Documents\\Study\\myper\\calorie_detector\\src\\..\\data\\test\\images\\R_png.rf.c77ad6a684d897f9062939bd2a3585ec.jpg: 640x640 1 burger, 26.8ms\n",
      "image 18/56 C:\\Users\\mtaah\\Documents\\Study\\myper\\calorie_detector\\src\\..\\data\\test\\images\\Unknown-11_jpeg.rf.4bc84452b8360cba09cacbb7ff0f951d.jpg: 640x640 1 salad, 35.1ms\n",
      "image 19/56 C:\\Users\\mtaah\\Documents\\Study\\myper\\calorie_detector\\src\\..\\data\\test\\images\\Unknown-5_jpeg.rf.8c2de676b6f747693d4d49c1a1921718.jpg: 640x640 1 salad, 30.7ms\n",
      "image 20/56 C:\\Users\\mtaah\\Documents\\Study\\myper\\calorie_detector\\src\\..\\data\\test\\images\\Unknown-6_jpeg.rf.17f5875a7afbed8b5f70b0d869c9b688.jpg: 640x640 1 salad, 37.4ms\n",
      "image 21/56 C:\\Users\\mtaah\\Documents\\Study\\myper\\calorie_detector\\src\\..\\data\\test\\images\\Unknown-9_jpeg.rf.6d75b30c561c7adbcfd3c6294260e976.jpg: 640x640 1 salad, 34.4ms\n",
      "image 22/56 C:\\Users\\mtaah\\Documents\\Study\\myper\\calorie_detector\\src\\..\\data\\test\\images\\Unknown_jpeg.rf.56e9dd6e79130827d5c62fe2db24d580.jpg: 640x640 1 salad, 32.7ms\n",
      "image 23/56 C:\\Users\\mtaah\\Documents\\Study\\myper\\calorie_detector\\src\\..\\data\\test\\images\\_14_2815745_jpg.rf.fe5ef2dd804f9fd4c628eb199af5da43.jpg: 640x640 1 Fries, 34.2ms\n",
      "image 24/56 C:\\Users\\mtaah\\Documents\\Study\\myper\\calorie_detector\\src\\..\\data\\test\\images\\_4_8679255_jpg.rf.6e5e10c453a0b3a8c286be043b28784a.jpg: 640x640 1 Fries, 26.3ms\n",
      "image 25/56 C:\\Users\\mtaah\\Documents\\Study\\myper\\calorie_detector\\src\\..\\data\\test\\images\\a-flying-burger-with-all-the-layers-ai-generative-free-photo_jpg.rf.583efacf162464acb3a23a28c30207db.jpg: 640x640 1 burger, 25.6ms\n",
      "image 26/56 C:\\Users\\mtaah\\Documents\\Study\\myper\\calorie_detector\\src\\..\\data\\test\\images\\images-2_jpeg.rf.570c0ea9411faf61d74684d060725ad4.jpg: 640x640 1 salad, 34.5ms\n",
      "image 27/56 C:\\Users\\mtaah\\Documents\\Study\\myper\\calorie_detector\\src\\..\\data\\test\\images\\images-3_jpeg.rf.ffc09e14347b60a83a81af4e64ec7044.jpg: 640x640 1 salad, 25.5ms\n",
      "image 28/56 C:\\Users\\mtaah\\Documents\\Study\\myper\\calorie_detector\\src\\..\\data\\test\\images\\images-6_jpeg.rf.4e7919f2529894a2c59a27fded68dd1a.jpg: 640x640 1 salad, 31.3ms\n",
      "image 29/56 C:\\Users\\mtaah\\Documents\\Study\\myper\\calorie_detector\\src\\..\\data\\test\\images\\istockphoto-1089701298-612x612_jpg.rf.5c2a7e06c06006c1a6a92c8ae850a0f3.jpg: 640x640 1 Fried-Egg, 28.7ms\n",
      "image 30/56 C:\\Users\\mtaah\\Documents\\Study\\myper\\calorie_detector\\src\\..\\data\\test\\images\\istockphoto-166193897-612x612_jpg.rf.85f53fd3f397aef096634c4c2450be82.jpg: 640x640 1 Fried-Egg, 26.8ms\n",
      "image 31/56 C:\\Users\\mtaah\\Documents\\Study\\myper\\calorie_detector\\src\\..\\data\\test\\images\\istockphoto-452252277-612x612_jpg.rf.163c8f8a5caba3f8f74a4806e14cd978.jpg: 640x640 1 Fried-Egg, 32.6ms\n",
      "image 32/56 C:\\Users\\mtaah\\Documents\\Study\\myper\\calorie_detector\\src\\..\\data\\test\\images\\istockphoto-470985386-612x612_jpg.rf.1415d5c7d21723b72368c2d81fe1e807.jpg: 640x640 1 Fried-Egg, 28.6ms\n",
      "image 33/56 C:\\Users\\mtaah\\Documents\\Study\\myper\\calorie_detector\\src\\..\\data\\test\\images\\istockphoto-484356844-612x612_jpg.rf.a58b7d2c0a0f0488da766249474a894f.jpg: 640x640 1 Fried-Egg, 43.8ms\n",
      "image 34/56 C:\\Users\\mtaah\\Documents\\Study\\myper\\calorie_detector\\src\\..\\data\\test\\images\\istockphoto-519010016-612x612_jpg.rf.49e69fa8f3c757d3ac484b131f80a28a.jpg: 640x640 1 Fried-Egg, 42.7ms\n",
      "image 35/56 C:\\Users\\mtaah\\Documents\\Study\\myper\\calorie_detector\\src\\..\\data\\test\\images\\istockphoto-680854786-612x612_jpg.rf.be3eb8e2f3bcd8554169e480de951beb.jpg: 640x640 1 Fried-Egg, 44.4ms\n",
      "image 36/56 C:\\Users\\mtaah\\Documents\\Study\\myper\\calorie_detector\\src\\..\\data\\test\\images\\istockphoto-92032454-612x612_jpg.rf.4383d0c78fc857843ac4ae3c8a0dbd5a.jpg: 640x640 1 Fried-Egg, 42.5ms\n",
      "image 37/56 C:\\Users\\mtaah\\Documents\\Study\\myper\\calorie_detector\\src\\..\\data\\test\\images\\kentang-101-_jpg.rf.abe7b7a60412b17b3cc3849c114fd64d.jpg: 640x640 1 Fries, 42.6ms\n",
      "image 38/56 C:\\Users\\mtaah\\Documents\\Study\\myper\\calorie_detector\\src\\..\\data\\test\\images\\kentang-103-_jpg.rf.a9abd3294b1bd7ca7a989de77583355e.jpg: 640x640 (no detections), 43.5ms\n",
      "image 39/56 C:\\Users\\mtaah\\Documents\\Study\\myper\\calorie_detector\\src\\..\\data\\test\\images\\kentang-106-_jpg.rf.f397730071af529284c3e2a9c141183b.jpg: 640x640 1 Fries, 43.1ms\n",
      "image 40/56 C:\\Users\\mtaah\\Documents\\Study\\myper\\calorie_detector\\src\\..\\data\\test\\images\\kentang-110-_jpg.rf.939566b65fe5f556788eee0b0847f249.jpg: 640x640 1 Fries, 42.5ms\n",
      "image 41/56 C:\\Users\\mtaah\\Documents\\Study\\myper\\calorie_detector\\src\\..\\data\\test\\images\\kentang-111-_jpg.rf.b7bfc4120a97dbf4813bc605403070a2.jpg: 640x640 1 Fries, 25.0ms\n",
      "image 42/56 C:\\Users\\mtaah\\Documents\\Study\\myper\\calorie_detector\\src\\..\\data\\test\\images\\kentang-121-_jpg.rf.e1f5d04206e88cf86d608a8cacb12880.jpg: 640x640 1 Fries, 24.4ms\n",
      "image 43/56 C:\\Users\\mtaah\\Documents\\Study\\myper\\calorie_detector\\src\\..\\data\\test\\images\\kentang-275-_jpg.rf.5f0d9f53d4f062d7185e6666d606328a.jpg: 640x640 1 Fries, 33.3ms\n",
      "image 44/56 C:\\Users\\mtaah\\Documents\\Study\\myper\\calorie_detector\\src\\..\\data\\test\\images\\l_jpg.rf.55a0e8a469610b698df50b2d335a4baf.jpg: 640x640 1 salad, 34.6ms\n",
      "image 45/56 C:\\Users\\mtaah\\Documents\\Study\\myper\\calorie_detector\\src\\..\\data\\test\\images\\suggested-58Jv61yBeIBAx7ApQHeq_jpg.rf.e44f8143293cb7984052eb0159a8e218.jpg: 640x640 1 steak, 28.0ms\n",
      "image 46/56 C:\\Users\\mtaah\\Documents\\Study\\myper\\calorie_detector\\src\\..\\data\\test\\images\\suggested-7IItbYRWnECppmF7roQH_jpg.rf.3ba8c7f07faec024b4b6dcb83fa3df6c.jpg: 640x640 1 Fries, 29.5ms\n",
      "image 47/56 C:\\Users\\mtaah\\Documents\\Study\\myper\\calorie_detector\\src\\..\\data\\test\\images\\suggested-GDh1BhXoWRKUWMGayTsA_jpg.rf.03425d71ccd048120a750dbc14341712.jpg: 640x640 (no detections), 27.9ms\n",
      "image 48/56 C:\\Users\\mtaah\\Documents\\Study\\myper\\calorie_detector\\src\\..\\data\\test\\images\\suggested-QRGditaC2mRFrXmeLK7B_jpg.rf.b6bb99fe75b7f91f9b08b170c13d1739.jpg: 640x640 1 burger, 29.9ms\n",
      "image 49/56 C:\\Users\\mtaah\\Documents\\Study\\myper\\calorie_detector\\src\\..\\data\\test\\images\\suggested-e68PTc9iZGoNxkrYtXAN_jpg.rf.0825964a9441481f9b78230238139bff.jpg: 640x640 1 steak, 31.1ms\n",
      "image 50/56 C:\\Users\\mtaah\\Documents\\Study\\myper\\calorie_detector\\src\\..\\data\\test\\images\\suggested-e8tgIKOyxHBDfQtUZouM_jpg.rf.da995b9a51cfd18b8c2b4892e3a4a801.jpg: 640x640 1 steak, 27.5ms\n",
      "image 51/56 C:\\Users\\mtaah\\Documents\\Study\\myper\\calorie_detector\\src\\..\\data\\test\\images\\suggested-fAfFz3bjcmnmTffHptuZ_jpg.rf.249a0679e4b862e9e9db2ba886f04add.jpg: 640x640 (no detections), 28.7ms\n",
      "image 52/56 C:\\Users\\mtaah\\Documents\\Study\\myper\\calorie_detector\\src\\..\\data\\test\\images\\suggested-gatq12y7MpQH8Y1Iu5SI_jpg.rf.d32ae18389f13bed1ccee574be9f7bc4.jpg: 640x640 1 steak, 28.5ms\n",
      "image 53/56 C:\\Users\\mtaah\\Documents\\Study\\myper\\calorie_detector\\src\\..\\data\\test\\images\\suggested-gzmWUDTy2pb7VruxQSfb_jpg.rf.5186378c3e4978c257158bf71ea49854.jpg: 640x640 2 steaks, 29.0ms\n",
      "image 54/56 C:\\Users\\mtaah\\Documents\\Study\\myper\\calorie_detector\\src\\..\\data\\test\\images\\suggested-hcxe977Q6imUsYPnqX0L_jpg.rf.87610709551d290d163e97c6f80d034f.jpg: 640x640 1 Fries, 32.7ms\n",
      "image 55/56 C:\\Users\\mtaah\\Documents\\Study\\myper\\calorie_detector\\src\\..\\data\\test\\images\\suggested-wkwFb2yqmKDI5JISZDl4_jpg.rf.c3cf97ade56255948cee23fc8dd0f198.jpg: 640x640 1 steak, 36.1ms\n",
      "image 56/56 C:\\Users\\mtaah\\Documents\\Study\\myper\\calorie_detector\\src\\..\\data\\test\\images\\two-ramen-burger-close-up-on-a-wooden-table-vertical-hgb7rp_jpg.rf.ccd0df600f7ebfcb124ecc098b6fae51.jpg: 640x640 1 burger, 29.5ms\n",
      "Speed: 12.8ms preprocess, 36.3ms inference, 21.1ms postprocess per image at shape (1, 3, 640, 640)\n",
      "Results saved to \u001b[1moutputs\\food7_preds2\u001b[0m\n",
      "Saved annotated images to: outputs/food7_preds/\n"
     ]
    }
   ],
   "source": [
    "# src/01_predict_quick.py\n",
    "from ultralytics import YOLO\n",
    "\n",
    "MODEL_WEIGHTS = \"outputs/food7_yolov8n/weights/best.pt\"  # from your training printout\n",
    "IMG_OR_DIR    = \"../data/test/images\"               # can be a single image or a folder\n",
    "\n",
    "model = YOLO(MODEL_WEIGHTS)\n",
    "\n",
    "results = model(\n",
    "    source=IMG_OR_DIR,\n",
    "    conf=0.35,       # confidence threshold\n",
    "    iou=0.5,         # NMS IoU\n",
    "    save=True,       # saves annotated images\n",
    "    project=\"outputs\",\n",
    "    name=\"food7_preds\",\n",
    "    line_thickness=2\n",
    ")\n",
    "\n",
    "print(\"Saved annotated images to: outputs/food7_preds/\")\n"
   ]
  },
  {
   "cell_type": "code",
   "execution_count": null,
   "id": "57ac5963-c73a-4321-9022-39d30f309a4b",
   "metadata": {},
   "outputs": [],
   "source": []
  }
 ],
 "metadata": {
  "kernelspec": {
   "display_name": "Python 3 (ipykernel)",
   "language": "python",
   "name": "python3"
  },
  "language_info": {
   "codemirror_mode": {
    "name": "ipython",
    "version": 3
   },
   "file_extension": ".py",
   "mimetype": "text/x-python",
   "name": "python",
   "nbconvert_exporter": "python",
   "pygments_lexer": "ipython3",
   "version": "3.12.5"
  }
 },
 "nbformat": 4,
 "nbformat_minor": 5
}
